{
 "cells": [
  {
   "cell_type": "code",
   "execution_count": 1,
   "metadata": {},
   "outputs": [],
   "source": [
    "import json\n",
    "import pandas as pd\n",
    "import plotly as plt\n",
    "import plotly.express as px"
   ]
  },
  {
   "cell_type": "code",
   "execution_count": 2,
   "metadata": {},
   "outputs": [],
   "source": [
    "import plotly.io as pio\n",
    "pio.renderers.default = 'browser'"
   ]
  },
  {
   "cell_type": "code",
   "execution_count": 3,
   "metadata": {},
   "outputs": [],
   "source": [
    "countries = json.load(open(\"static/data/countries.geojson\", \"r\"))"
   ]
  },
  {
   "cell_type": "code",
   "execution_count": 4,
   "metadata": {},
   "outputs": [],
   "source": [
    "country_id_map = {}\n",
    "for feature in countries['features']:\n",
    "    feature['id'] = feature['properties']['ISO_A3']\n",
    "    country_id_map[feature['properties']['ADMIN']] = feature['id']"
   ]
  },
  {
   "cell_type": "code",
   "execution_count": 5,
   "metadata": {},
   "outputs": [
    {
     "data": {
      "text/html": [
       "<div>\n",
       "<style scoped>\n",
       "    .dataframe tbody tr th:only-of-type {\n",
       "        vertical-align: middle;\n",
       "    }\n",
       "\n",
       "    .dataframe tbody tr th {\n",
       "        vertical-align: top;\n",
       "    }\n",
       "\n",
       "    .dataframe thead th {\n",
       "        text-align: right;\n",
       "    }\n",
       "</style>\n",
       "<table border=\"1\" class=\"dataframe\">\n",
       "  <thead>\n",
       "    <tr style=\"text-align: right;\">\n",
       "      <th></th>\n",
       "      <th>Year</th>\n",
       "      <th>Country</th>\n",
       "      <th>Description</th>\n",
       "      <th>Deaths</th>\n",
       "      <th>ByTeslaCount</th>\n",
       "      <th>ByOtherPartyCount</th>\n",
       "      <th>ByUndeterminedCount</th>\n",
       "      <th>ByInanimateObjectCount</th>\n",
       "      <th>PedestrianInvolvedCount</th>\n",
       "      <th>MotorcycleInvolvedCount</th>\n",
       "      <th>AutoPilotOnCount</th>\n",
       "    </tr>\n",
       "  </thead>\n",
       "  <tbody>\n",
       "    <tr>\n",
       "      <th>0</th>\n",
       "      <td>2021</td>\n",
       "      <td>China</td>\n",
       "      <td>Collisions with cement barrier, car catches on...</td>\n",
       "      <td>1</td>\n",
       "      <td>1</td>\n",
       "      <td>0</td>\n",
       "      <td>0</td>\n",
       "      <td>0</td>\n",
       "      <td>0</td>\n",
       "      <td>0</td>\n",
       "      <td>0</td>\n",
       "    </tr>\n",
       "    <tr>\n",
       "      <th>1</th>\n",
       "      <td>2021</td>\n",
       "      <td>China</td>\n",
       "      <td>Collisions with cement barrier, car catches on...</td>\n",
       "      <td>1</td>\n",
       "      <td>1</td>\n",
       "      <td>0</td>\n",
       "      <td>0</td>\n",
       "      <td>0</td>\n",
       "      <td>0</td>\n",
       "      <td>0</td>\n",
       "      <td>0</td>\n",
       "    </tr>\n",
       "    <tr>\n",
       "      <th>2</th>\n",
       "      <td>2021</td>\n",
       "      <td>China</td>\n",
       "      <td>Collisions with cement barrier, car catches on...</td>\n",
       "      <td>1</td>\n",
       "      <td>1</td>\n",
       "      <td>0</td>\n",
       "      <td>0</td>\n",
       "      <td>0</td>\n",
       "      <td>0</td>\n",
       "      <td>0</td>\n",
       "      <td>0</td>\n",
       "    </tr>\n",
       "    <tr>\n",
       "      <th>3</th>\n",
       "      <td>2021</td>\n",
       "      <td>China</td>\n",
       "      <td>Collisions with cement barrier, car catches on...</td>\n",
       "      <td>1</td>\n",
       "      <td>0</td>\n",
       "      <td>1</td>\n",
       "      <td>0</td>\n",
       "      <td>0</td>\n",
       "      <td>0</td>\n",
       "      <td>0</td>\n",
       "      <td>0</td>\n",
       "    </tr>\n",
       "    <tr>\n",
       "      <th>4</th>\n",
       "      <td>2021</td>\n",
       "      <td>China</td>\n",
       "      <td>Collisions with cement barrier, car catches on...</td>\n",
       "      <td>1</td>\n",
       "      <td>1</td>\n",
       "      <td>0</td>\n",
       "      <td>0</td>\n",
       "      <td>0</td>\n",
       "      <td>0</td>\n",
       "      <td>0</td>\n",
       "      <td>0</td>\n",
       "    </tr>\n",
       "    <tr>\n",
       "      <th>...</th>\n",
       "      <td>...</td>\n",
       "      <td>...</td>\n",
       "      <td>...</td>\n",
       "      <td>...</td>\n",
       "      <td>...</td>\n",
       "      <td>...</td>\n",
       "      <td>...</td>\n",
       "      <td>...</td>\n",
       "      <td>...</td>\n",
       "      <td>...</td>\n",
       "      <td>...</td>\n",
       "    </tr>\n",
       "    <tr>\n",
       "      <th>4526</th>\n",
       "      <td>2014</td>\n",
       "      <td>United States of America</td>\n",
       "      <td>Tesla rear ends stopped car</td>\n",
       "      <td>3</td>\n",
       "      <td>1</td>\n",
       "      <td>0</td>\n",
       "      <td>0</td>\n",
       "      <td>0</td>\n",
       "      <td>0</td>\n",
       "      <td>0</td>\n",
       "      <td>0</td>\n",
       "    </tr>\n",
       "    <tr>\n",
       "      <th>4527</th>\n",
       "      <td>2013</td>\n",
       "      <td>United States of America</td>\n",
       "      <td>Tesla kills cyclist</td>\n",
       "      <td>1</td>\n",
       "      <td>1</td>\n",
       "      <td>0</td>\n",
       "      <td>0</td>\n",
       "      <td>0</td>\n",
       "      <td>1</td>\n",
       "      <td>0</td>\n",
       "      <td>0</td>\n",
       "    </tr>\n",
       "    <tr>\n",
       "      <th>4528</th>\n",
       "      <td>2013</td>\n",
       "      <td>United States of America</td>\n",
       "      <td>Tesla kills cyclist</td>\n",
       "      <td>1</td>\n",
       "      <td>1</td>\n",
       "      <td>0</td>\n",
       "      <td>0</td>\n",
       "      <td>0</td>\n",
       "      <td>0</td>\n",
       "      <td>0</td>\n",
       "      <td>0</td>\n",
       "    </tr>\n",
       "    <tr>\n",
       "      <th>4529</th>\n",
       "      <td>2013</td>\n",
       "      <td>United States of America</td>\n",
       "      <td>Tesla veers into opposite lane</td>\n",
       "      <td>2</td>\n",
       "      <td>1</td>\n",
       "      <td>0</td>\n",
       "      <td>0</td>\n",
       "      <td>0</td>\n",
       "      <td>1</td>\n",
       "      <td>0</td>\n",
       "      <td>0</td>\n",
       "    </tr>\n",
       "    <tr>\n",
       "      <th>4530</th>\n",
       "      <td>2013</td>\n",
       "      <td>United States of America</td>\n",
       "      <td>Tesla veers into opposite lane</td>\n",
       "      <td>2</td>\n",
       "      <td>1</td>\n",
       "      <td>0</td>\n",
       "      <td>0</td>\n",
       "      <td>0</td>\n",
       "      <td>0</td>\n",
       "      <td>0</td>\n",
       "      <td>0</td>\n",
       "    </tr>\n",
       "  </tbody>\n",
       "</table>\n",
       "<p>4531 rows × 11 columns</p>\n",
       "</div>"
      ],
      "text/plain": [
       "      Year                   Country  \\\n",
       "0     2021                     China   \n",
       "1     2021                     China   \n",
       "2     2021                     China   \n",
       "3     2021                     China   \n",
       "4     2021                     China   \n",
       "...    ...                       ...   \n",
       "4526  2014  United States of America   \n",
       "4527  2013  United States of America   \n",
       "4528  2013  United States of America   \n",
       "4529  2013  United States of America   \n",
       "4530  2013  United States of America   \n",
       "\n",
       "                                            Description  Deaths  ByTeslaCount  \\\n",
       "0     Collisions with cement barrier, car catches on...       1             1   \n",
       "1     Collisions with cement barrier, car catches on...       1             1   \n",
       "2     Collisions with cement barrier, car catches on...       1             1   \n",
       "3     Collisions with cement barrier, car catches on...       1             0   \n",
       "4     Collisions with cement barrier, car catches on...       1             1   \n",
       "...                                                 ...     ...           ...   \n",
       "4526                        Tesla rear ends stopped car       3             1   \n",
       "4527                                Tesla kills cyclist       1             1   \n",
       "4528                                Tesla kills cyclist       1             1   \n",
       "4529                     Tesla veers into opposite lane       2             1   \n",
       "4530                     Tesla veers into opposite lane       2             1   \n",
       "\n",
       "      ByOtherPartyCount  ByUndeterminedCount  ByInanimateObjectCount  \\\n",
       "0                     0                    0                       0   \n",
       "1                     0                    0                       0   \n",
       "2                     0                    0                       0   \n",
       "3                     1                    0                       0   \n",
       "4                     0                    0                       0   \n",
       "...                 ...                  ...                     ...   \n",
       "4526                  0                    0                       0   \n",
       "4527                  0                    0                       0   \n",
       "4528                  0                    0                       0   \n",
       "4529                  0                    0                       0   \n",
       "4530                  0                    0                       0   \n",
       "\n",
       "      PedestrianInvolvedCount  MotorcycleInvolvedCount  AutoPilotOnCount  \n",
       "0                           0                        0                 0  \n",
       "1                           0                        0                 0  \n",
       "2                           0                        0                 0  \n",
       "3                           0                        0                 0  \n",
       "4                           0                        0                 0  \n",
       "...                       ...                      ...               ...  \n",
       "4526                        0                        0                 0  \n",
       "4527                        1                        0                 0  \n",
       "4528                        0                        0                 0  \n",
       "4529                        1                        0                 0  \n",
       "4530                        0                        0                 0  \n",
       "\n",
       "[4531 rows x 11 columns]"
      ]
     },
     "execution_count": 5,
     "metadata": {},
     "output_type": "execute_result"
    }
   ],
   "source": [
    "df = pd.read_csv(\"static/data/tesla_deaths_scraped.csv\")\n",
    "df"
   ]
  },
  {
   "cell_type": "code",
   "execution_count": 6,
   "metadata": {},
   "outputs": [
    {
     "data": {
      "text/plain": [
       "0       CHN\n",
       "1       CHN\n",
       "2       CHN\n",
       "3       CHN\n",
       "4       CHN\n",
       "       ... \n",
       "4526    USA\n",
       "4527    USA\n",
       "4528    USA\n",
       "4529    USA\n",
       "4530    USA\n",
       "Name: Country, Length: 4531, dtype: object"
      ]
     },
     "execution_count": 6,
     "metadata": {},
     "output_type": "execute_result"
    }
   ],
   "source": [
    "test= df['id']=df['Country'].apply(lambda x: country_id_map[x])\n",
    "test"
   ]
  },
  {
   "cell_type": "code",
   "execution_count": 7,
   "metadata": {},
   "outputs": [
    {
     "data": {
      "text/plain": [
       "{'ADMIN': 'Aruba', 'ISO_A3': 'ABW'}"
      ]
     },
     "execution_count": 7,
     "metadata": {},
     "output_type": "execute_result"
    }
   ],
   "source": [
    "countries['features'][0]['properties']"
   ]
  },
  {
   "cell_type": "code",
   "execution_count": 8,
   "metadata": {},
   "outputs": [
    {
     "data": {
      "text/plain": [
       "dict_keys(['type', 'properties', 'geometry', 'id'])"
      ]
     },
     "execution_count": 8,
     "metadata": {},
     "output_type": "execute_result"
    }
   ],
   "source": [
    "countries['features'][0].keys()"
   ]
  },
  {
   "cell_type": "code",
   "execution_count": 9,
   "metadata": {},
   "outputs": [
    {
     "data": {
      "text/plain": [
       "0       1\n",
       "1       1\n",
       "2       1\n",
       "3       1\n",
       "4       1\n",
       "       ..\n",
       "4526    3\n",
       "4527    1\n",
       "4528    1\n",
       "4529    2\n",
       "4530    2\n",
       "Name: Deaths, Length: 4531, dtype: int64"
      ]
     },
     "execution_count": 9,
     "metadata": {},
     "output_type": "execute_result"
    }
   ],
   "source": [
    "death_df = df['Deaths']\n",
    "death_df"
   ]
  },
  {
   "cell_type": "code",
   "execution_count": null,
   "metadata": {},
   "outputs": [],
   "source": [
    "fig = px.choropleth(df, locations='id', geojson=countries, color= 'Deaths')\n",
    "fig.show()"
   ]
  },
  {
   "cell_type": "code",
   "execution_count": null,
   "metadata": {},
   "outputs": [],
   "source": []
  }
 ],
 "metadata": {
  "kernelspec": {
   "display_name": "Python 3",
   "language": "python",
   "name": "python3"
  },
  "language_info": {
   "codemirror_mode": {
    "name": "ipython",
    "version": 3
   },
   "file_extension": ".py",
   "mimetype": "text/x-python",
   "name": "python",
   "nbconvert_exporter": "python",
   "pygments_lexer": "ipython3",
   "version": "3.6.10"
  }
 },
 "nbformat": 4,
 "nbformat_minor": 4
}
